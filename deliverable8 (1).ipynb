{
  "nbformat": 4,
  "nbformat_minor": 0,
  "metadata": {
    "colab": {
      "provenance": []
    },
    "kernelspec": {
      "name": "python3",
      "display_name": "Python 3"
    },
    "language_info": {
      "name": "python"
    }
  },
  "cells": [
    {
      "cell_type": "markdown",
      "source": [],
      "metadata": {
        "id": "28RQZdnOZkm0"
      }
    },
    {
      "cell_type": "code",
      "source": [
        "# Name: AnnaBella DeChick\n",
        "# Date: 3/23/2023\n",
        "# Project: deliverable 8, a Python replication of part of our past deliverable 4 "
      ],
      "metadata": {
        "id": "iSB3UC4WZwQL"
      },
      "execution_count": 9,
      "outputs": []
    },
    {
      "cell_type": "code",
      "source": [
        "import numpy as np"
      ],
      "metadata": {
        "id": "L_NFZTf8aB-M"
      },
      "execution_count": 10,
      "outputs": []
    },
    {
      "cell_type": "code",
      "source": [
        "# Define Method #1\n",
        "def random_list(size): # Establishing the list randomizer \n",
        "  list = []\n",
        "  for i in range(size):\n",
        "    list.append(np.random.randint(10,50))\n",
        "    return list \n",
        "\n",
        "# Defining Method #2\n",
        "def sum_random (list): # Establishing the sum calculation \n",
        "  sum = 0 \n",
        "  for i in range(len(list)):\n",
        "    sum = sum + list[i]\n",
        "    return sum "
      ],
      "metadata": {
        "id": "RACw68oEaF44"
      },
      "execution_count": 11,
      "outputs": []
    },
    {
      "cell_type": "code",
      "source": [
        "n = int(input(\"Enter an integer between 5 and 15: \"))\n",
        "\n",
        "while True: \n",
        "    if n>=5 and n<=15: \n",
        "      MyList = random_list(n)\n",
        "      print(\"The elements of the array are: \")\n",
        "      print(MyList)\n",
        "      MySum = sum_random(MyList)\n",
        "      print(\"The sum is: \")\n",
        "      print(MySum)\n",
        "    else: \n",
        "        print(\"Invalid, the entered integer is not between 5 and 15. Please run the program again.\")\n",
        "    break "
      ],
      "metadata": {
        "colab": {
          "base_uri": "https://localhost:8080/"
        },
        "id": "GXWhGCOtmE7X",
        "outputId": "a5020975-4761-4f63-e11c-b13d7ea33a1f"
      },
      "execution_count": 18,
      "outputs": [
        {
          "output_type": "stream",
          "name": "stdout",
          "text": [
            "Enter an integer between 5 and 15: 20\n",
            "Invalid, the entered integer is not between 5 and 15. Please run the program again.\n"
          ]
        }
      ]
    }
  ]
}